{
  "metadata": {
    "language_info": {
      "codemirror_mode": {
        "name": "python",
        "version": 3
      },
      "file_extension": ".py",
      "mimetype": "text/x-python",
      "name": "python",
      "nbconvert_exporter": "python",
      "pygments_lexer": "ipython3",
      "version": "3.8"
    },
    "kernelspec": {
      "name": "python",
      "display_name": "Pyolite",
      "language": "python"
    }
  },
  "nbformat_minor": 4,
  "nbformat": 4,
  "cells": [
    {
      "cell_type": "markdown",
      "source": "# Tittle\n# H1: **Data Science Tools and Ecosystem**",
      "metadata": {}
    },
    {
      "cell_type": "markdown",
      "source": "# Introduction\n*In this notebook, Data Science Tools and Ecosystem are summarized.*",
      "metadata": {}
    },
    {
      "cell_type": "markdown",
      "source": "# Tittle\n**Objectives:**\n* List of Data Science Languages\n* List of Data Science Libraries\n* Arithemetic Expressions\n* Addition and Multiplication Operations\n* Conversion operation",
      "metadata": {}
    },
    {
      "cell_type": "markdown",
      "source": "# Lists of Data Sciecne Languages:\nSome of the popular languages that Data Scientists use are: \n1. Python \n2. Java \n3. R \n4. C++ \n5. Julia \n6. Javascript \n7. Seaborn",
      "metadata": {}
    },
    {
      "cell_type": "markdown",
      "source": "# List of Data Science Libraries\nSome of the commonly used libraries used by Data Scientists include:\n1. Pandas\n2. NumPy\n3. SciPy\n4. Matplotlib\n5. Scikit-Learn\n6. PyTorch\n7. TensorFlow",
      "metadata": {}
    },
    {
      "cell_type": "markdown",
      "source": "# Data Science Tools\n| Data Science Tools |\n|--------------------|\n|      GitHub        |\n|      Kaggle        |\n|     Kubernetes     |\n|      CodePen       |\n| Data Asset eXchange|\n| Google Search Engine |\n",
      "metadata": {}
    },
    {
      "cell_type": "markdown",
      "source": "# Arithmetic Expression \n### H3: **Below are a few examples of evaluating arithmetic expressions in Python:**\n* 19+24\n* 21-9\n* 75-25\n* 11+36\n* 85-20+10",
      "metadata": {}
    },
    {
      "cell_type": "code",
      "source": "# Addition and Multiplication Operation\nprint (\"This a simple arithmetic expression to mutiply then add integers\")\n(3*4)+5\n\n\n",
      "metadata": {
        "tags": [],
        "trusted": true
      },
      "execution_count": 9,
      "outputs": [
        {
          "name": "stdout",
          "text": "This a simple arithmetic expression to mutiply then add integers\n",
          "output_type": "stream"
        },
        {
          "execution_count": 9,
          "output_type": "execute_result",
          "data": {
            "text/plain": "17"
          },
          "metadata": {}
        }
      ]
    },
    {
      "cell_type": "code",
      "source": "# Convert minutes to hours\nprint (\"This will convert 200 minutes to hours by diving by 60\")\n200 / 60",
      "metadata": {
        "trusted": true
      },
      "execution_count": 12,
      "outputs": [
        {
          "name": "stdout",
          "text": "This will convert 200 minutes to hours by diving by 60\n",
          "output_type": "stream"
        },
        {
          "execution_count": 12,
          "output_type": "execute_result",
          "data": {
            "text/plain": "3.3333333333333335"
          },
          "metadata": {}
        }
      ]
    },
    {
      "cell_type": "markdown",
      "source": "## H2: Author\nHeba Jamal A. Ansari",
      "metadata": {}
    },
    {
      "cell_type": "code",
      "source": "",
      "metadata": {},
      "execution_count": null,
      "outputs": []
    }
  ]
}